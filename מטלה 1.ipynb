{
 "cells": [
  {
   "cell_type": "markdown",
   "id": "c03f8200",
   "metadata": {},
   "source": [
    "# Task 1 - Python, NumPy and Pandas "
   ]
  },
  {
   "cell_type": "markdown",
   "id": "22bfbae6",
   "metadata": {},
   "source": [
    "## Part 1 - Base Python"
   ]
  },
  {
   "cell_type": "code",
   "execution_count": null,
   "id": "b557568e",
   "metadata": {},
   "outputs": [],
   "source": [
    "import numpy as np\n",
    "import pandas as pd"
   ]
  },
  {
   "cell_type": "markdown",
   "id": "c386fedd",
   "metadata": {},
   "source": [
    "A drunk man leaves a bar. He can take a step north or a step south but since he is drunk the direction of each step is random. Write a function that takes an array of n random numbers  from zero to one and returns his position after n steps. (His position is the number of steps he ends up to the north or south of the bar.) <br>\n",
    "Hint: You can define a step north if the random number is greater  than or equal to 0.5 and step south otherwise."
   ]
  },
  {
   "cell_type": "code",
   "execution_count": null,
   "id": "7c608bc3",
   "metadata": {},
   "outputs": [],
   "source": []
  },
  {
   "cell_type": "markdown",
   "id": "d22e989a",
   "metadata": {},
   "source": [
    "Now test your function using array x as your input:"
   ]
  },
  {
   "cell_type": "code",
   "execution_count": null,
   "id": "cb623e7d",
   "metadata": {},
   "outputs": [],
   "source": [
    "x = np.array([0.04213258 ,0.52710927 ,0.77192904 ,0.31142186, 0.14499949 ,0.6811671, 0.03166511, 0.21591565, 0.03623045,\n",
    " 0.33980672 ,0.14749022 ,0.67885345, 0.71780702 ,0.8916977 , 0.99759387 ,0.10180522, 0.46661761, 0.40967586, 0.94219329,\n",
    " 0.28663323, 0.06680141, 0.95422541, 0.24546625, 0.88318858, 0.65294073, 0.22424247, 0.68488825, 0.83470679, 0.53413563,\n",
    " 0.29258516, 0.5885011,  0.13184497, 0.63696717, 0.05045391, 0.36557114, 0.41776146, 0.234408,   0.18254025, 0.19775767,\n",
    " 0.00195501, 0.08346885, 0.65614844, 0.24971543, 0.64096734, 0.60999048, 0.12395638, 0.30221827, 0.95643157, 0.88786033,\n",
    " 0.44658592])\n",
    "\n",
    "print(random_walk(x))"
   ]
  },
  {
   "cell_type": "markdown",
   "id": "7157b0be",
   "metadata": {},
   "source": [
    "Run your function 10000 times, each time with a new random array of length 50. (Each time the function runs he starts off at the bar, not in his previous position.) Calculate his average position over 10000 random walks."
   ]
  },
  {
   "cell_type": "code",
   "execution_count": null,
   "id": "222e63ee",
   "metadata": {},
   "outputs": [],
   "source": []
  },
  {
   "cell_type": "markdown",
   "id": "61f1ad82",
   "metadata": {},
   "source": [
    "Would the result change if a step north is taken when the random number is greater or equal to 0.2? Rewrite your function so it takes a second argument p  with default value 0.5 that defines the probability of a step north and run it on array x with p=0.2."
   ]
  },
  {
   "cell_type": "code",
   "execution_count": null,
   "id": "dbbff9b3",
   "metadata": {},
   "outputs": [],
   "source": []
  },
  {
   "cell_type": "markdown",
   "id": "ef513068",
   "metadata": {},
   "source": [
    "## Part 2 - NUMPY"
   ]
  },
  {
   "cell_type": "code",
   "execution_count": null,
   "id": "dc29ceba",
   "metadata": {},
   "outputs": [],
   "source": [
    "# What code produces the following array? Save the array as a variable.\n",
    "'''\n",
    "[[1 2 3]\n",
    " [4 5 6]]\n",
    "'''\n",
    "\n"
   ]
  },
  {
   "cell_type": "code",
   "execution_count": null,
   "id": "f0db0915",
   "metadata": {},
   "outputs": [],
   "source": [
    "# What code prints the number 5 from the array?\n",
    "\n"
   ]
  },
  {
   "cell_type": "code",
   "execution_count": null,
   "id": "2b19fa21",
   "metadata": {},
   "outputs": [],
   "source": [
    "# Reshape your array with one dimension instead of 2 and multiply all the numbers by 10\n"
   ]
  },
  {
   "cell_type": "code",
   "execution_count": null,
   "id": "dd908d52",
   "metadata": {},
   "outputs": [],
   "source": [
    "# What code prints the numbers 20, 30, 40 ?\n",
    "\n"
   ]
  },
  {
   "cell_type": "code",
   "execution_count": null,
   "id": "ffa21761",
   "metadata": {},
   "outputs": [],
   "source": [
    "# What code prints the numbers 20,40,60 ? \n"
   ]
  },
  {
   "cell_type": "code",
   "execution_count": null,
   "id": "38b72439",
   "metadata": {},
   "outputs": [],
   "source": [
    "# What code prints the data type of the array?\n"
   ]
  },
  {
   "cell_type": "code",
   "execution_count": null,
   "id": "10399564",
   "metadata": {},
   "outputs": [],
   "source": [
    "# What code changes the data type to string? And then to float? (Hint you can use astype)\n"
   ]
  },
  {
   "cell_type": "markdown",
   "id": "5564cdc9",
   "metadata": {},
   "source": [
    "## Part 3 - PANDAS "
   ]
  },
  {
   "cell_type": "markdown",
   "id": "50c36a6d",
   "metadata": {},
   "source": [
    "Read the file 'WorldCups.csv' into a data frame. <br>\n",
    "Print out the first three rows. "
   ]
  },
  {
   "cell_type": "code",
   "execution_count": null,
   "id": "e6eff977",
   "metadata": {},
   "outputs": [],
   "source": []
  },
  {
   "cell_type": "code",
   "execution_count": null,
   "id": "6023a155",
   "metadata": {},
   "outputs": [],
   "source": [
    "#You might want to re read the data using one of the columns as  the index. \n"
   ]
  },
  {
   "cell_type": "markdown",
   "id": "3ae3d400",
   "metadata": {},
   "source": [
    "What is the shape of the data? <br>\n",
    "What are the data types of the columns?"
   ]
  },
  {
   "cell_type": "code",
   "execution_count": null,
   "id": "07e2bc56",
   "metadata": {},
   "outputs": [],
   "source": []
  },
  {
   "cell_type": "code",
   "execution_count": null,
   "id": "c2108409",
   "metadata": {},
   "outputs": [],
   "source": [
    "#Take a look at 'Attendance'. Why is its data type 'object'(string)? \n"
   ]
  },
  {
   "cell_type": "code",
   "execution_count": null,
   "id": "0a03f76f",
   "metadata": {},
   "outputs": [],
   "source": [
    "#How can you change the data type of  'Attendance' to float? \n"
   ]
  },
  {
   "cell_type": "code",
   "execution_count": null,
   "id": "88c95513",
   "metadata": {},
   "outputs": [],
   "source": [
    "# Print out the rows of the data frame which have 'Country' as 'France'\n"
   ]
  },
  {
   "cell_type": "code",
   "execution_count": null,
   "id": "567ebe6f",
   "metadata": {},
   "outputs": [],
   "source": [
    "# Print out rows 10 to 15 (including 15)\n"
   ]
  },
  {
   "cell_type": "code",
   "execution_count": null,
   "id": "d14e6419",
   "metadata": {},
   "outputs": [],
   "source": []
  },
  {
   "cell_type": "code",
   "execution_count": null,
   "id": "0dc76772",
   "metadata": {},
   "outputs": [],
   "source": [
    "#Make a line plot of'GoalsScored'. \n",
    "\n"
   ]
  },
  {
   "cell_type": "code",
   "execution_count": null,
   "id": "5bf15017",
   "metadata": {},
   "outputs": [],
   "source": [
    "# Make a bar plot of the winners.\n"
   ]
  }
 ],
 "metadata": {
  "kernelspec": {
   "display_name": "Python 3 (ipykernel)",
   "language": "python",
   "name": "python3"
  },
  "language_info": {
   "codemirror_mode": {
    "name": "ipython",
    "version": 3
   },
   "file_extension": ".py",
   "mimetype": "text/x-python",
   "name": "python",
   "nbconvert_exporter": "python",
   "pygments_lexer": "ipython3",
   "version": "3.9.13"
  }
 },
 "nbformat": 4,
 "nbformat_minor": 5
}
