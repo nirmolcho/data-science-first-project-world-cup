{
 "cells": [
  {
   "cell_type": "markdown",
   "id": "c03f8200",
   "metadata": {},
   "source": [
    "# Task 1 - Python, NumPy and Pandas "
   ]
  },
  {
   "cell_type": "markdown",
   "id": "22bfbae6",
   "metadata": {},
   "source": [
    "## Part 1 - Base Python"
   ]
  },
  {
   "cell_type": "code",
   "execution_count": 1,
   "id": "b557568e",
   "metadata": {},
   "outputs": [],
   "source": [
    "import numpy as np\n",
    "import pandas as pd"
   ]
  },
  {
   "cell_type": "markdown",
   "id": "c386fedd",
   "metadata": {},
   "source": [
    "A drunk man leaves a bar. He can take a step north or a step south but since he is drunk the direction of each step is random. Write a function that takes an array of n random numbers  from zero to one and returns his position after n steps. (His position is the number of steps he ends up to the north or south of the bar.) <br>\n",
    "Hint: You can define a step north if the random number is greater  than or equal to 0.5 and step south otherwise."
   ]
  },
  {
   "cell_type": "code",
   "execution_count": 2,
   "outputs": [],
   "source": [
    "n = 100\n",
    "randomArray = np.random.random(n)\n",
    "def random_walk(list):\n",
    " stepSouth = 0\n",
    " stepNorth = 0\n",
    " totelWay = 0\n",
    " for a in list:\n",
    "  if a >= 0.5:\n",
    "   stepNorth = stepNorth + 1\n",
    "  if a < 0.5:\n",
    "   stepSouth = stepSouth + 1\n",
    " if stepNorth > stepSouth:\n",
    "  totelWay = stepNorth - stepSouth\n",
    " if stepNorth < stepSouth:\n",
    "  totelWay = stepSouth - stepNorth\n",
    " return totelWay"
   ],
   "metadata": {
    "collapsed": false
   }
  },
  {
   "cell_type": "code",
   "execution_count": 3,
   "outputs": [
    {
     "name": "stdout",
     "output_type": "stream",
     "text": [
      "18\n"
     ]
    }
   ],
   "source": [
    "print(random_walk(randomArray))"
   ],
   "metadata": {
    "collapsed": false
   }
  },
  {
   "cell_type": "markdown",
   "id": "d22e989a",
   "metadata": {},
   "source": [
    "Now test your function using array x as your input:"
   ]
  },
  {
   "cell_type": "code",
   "execution_count": 4,
   "id": "cb623e7d",
   "metadata": {},
   "outputs": [
    {
     "name": "stdout",
     "output_type": "stream",
     "text": [
      "8\n"
     ]
    }
   ],
   "source": [
    "x = np.array([0.04213258 ,0.52710927 ,0.77192904 ,0.31142186, 0.14499949 ,0.6811671, 0.03166511, 0.21591565, 0.03623045,\n",
    " 0.33980672 ,0.14749022 ,0.67885345, 0.71780702 ,0.8916977 , 0.99759387 ,0.10180522, 0.46661761, 0.40967586, 0.94219329,\n",
    " 0.28663323, 0.06680141, 0.95422541, 0.24546625, 0.88318858, 0.65294073, 0.22424247, 0.68488825, 0.83470679, 0.53413563,\n",
    " 0.29258516, 0.5885011,  0.13184497, 0.63696717, 0.05045391, 0.36557114, 0.41776146, 0.234408,   0.18254025, 0.19775767,\n",
    " 0.00195501, 0.08346885, 0.65614844, 0.24971543, 0.64096734, 0.60999048, 0.12395638, 0.30221827, 0.95643157, 0.88786033,\n",
    " 0.44658592])\n",
    "\n",
    "print(random_walk(x))"
   ]
  },
  {
   "cell_type": "markdown",
   "id": "7157b0be",
   "metadata": {},
   "source": [
    "Run your function 10000 times, each time with a new random array of length 50. (Each time the function runs he starts off at the bar, not in his previous position.) Calculate his average position over 10000 random walks."
   ]
  },
  {
   "cell_type": "code",
   "execution_count": 5,
   "id": "222e63ee",
   "metadata": {},
   "outputs": [],
   "source": [
    "totalNums = 50\n",
    "randArr = np.random.random(n)\n",
    "timesRun = 10000\n",
    "def newWalk(list1):\n",
    " lp = 0\n",
    " for i in range(10000):\n",
    "  if i == 0:\n",
    "   lp = (lp + random_walk(list1))\n",
    "  if i > 0:\n",
    "   lp = (lp + random_walk(list1))/i\n",
    "  return  lp\n"
   ]
  },
  {
   "cell_type": "code",
   "execution_count": 6,
   "outputs": [
    {
     "name": "stdout",
     "output_type": "stream",
     "text": [
      "0\n"
     ]
    }
   ],
   "source": [
    "print(newWalk(randArr))"
   ],
   "metadata": {
    "collapsed": false
   }
  },
  {
   "cell_type": "markdown",
   "id": "61f1ad82",
   "metadata": {},
   "source": [
    "Would the result change if a step north is taken when the random number is greater or equal to 0.2? Rewrite your function so it takes a second argument p  with default value 0.5 that defines the probability of a step north and run it on array x with p=0.2."
   ]
  },
  {
   "cell_type": "code",
   "execution_count": 7,
   "id": "dbbff9b3",
   "metadata": {},
   "outputs": [
    {
     "name": "stdout",
     "output_type": "stream",
     "text": [
      "70\n"
     ]
    }
   ],
   "source": [
    "p = 0.2\n",
    "def random_walk2(list):\n",
    " stepSouth = 0\n",
    " stepNorth = 0\n",
    " totelWay = 0\n",
    " for a in list:\n",
    "  if a >= p:\n",
    "   stepNorth = stepNorth + 1\n",
    "  if a < p:\n",
    "   stepSouth = stepSouth + 1\n",
    " if stepNorth > stepSouth:\n",
    "  totelWay = stepNorth - stepSouth\n",
    " if stepNorth < stepSouth:\n",
    "  totelWay = stepSouth - stepNorth\n",
    " return totelWay\n",
    "print(random_walk2(randomArray))"
   ]
  },
  {
   "cell_type": "markdown",
   "id": "ef513068",
   "metadata": {},
   "source": [
    "## Part 2 - NUMPY"
   ]
  },
  {
   "cell_type": "code",
   "execution_count": 8,
   "id": "dc29ceba",
   "metadata": {},
   "outputs": [
    {
     "name": "stdout",
     "output_type": "stream",
     "text": [
      "[[1 2 3]\n",
      " [4 5 6]]\n"
     ]
    }
   ],
   "source": [
    "# What code produces the following array? Save the array as a variable.\n",
    "'''\n",
    "[[1 2 3]\n",
    " [4 5 6]]\n",
    "'''\n",
    "array = np.array([[1,2,3],[4,5,6]])\n",
    "newAr = np.array2string(array)\n",
    "print(newAr)"
   ]
  },
  {
   "cell_type": "code",
   "execution_count": 9,
   "id": "f0db0915",
   "metadata": {},
   "outputs": [
    {
     "data": {
      "text/plain": "5"
     },
     "execution_count": 9,
     "metadata": {},
     "output_type": "execute_result"
    }
   ],
   "source": [
    "# What code prints the number 5 from the array?\n",
    "array[1][1]"
   ]
  },
  {
   "cell_type": "code",
   "execution_count": 10,
   "id": "2b19fa21",
   "metadata": {},
   "outputs": [
    {
     "name": "stdout",
     "output_type": "stream",
     "text": [
      "[[10 20 30 40 50 60]]\n"
     ]
    }
   ],
   "source": [
    "# Reshape your array with one dimension instead of 2 and multiply all the numbers by 10\n",
    "newArr = array.reshape((1,6))*10\n",
    "print(newArr)"
   ]
  },
  {
   "cell_type": "code",
   "execution_count": 11,
   "id": "dd908d52",
   "metadata": {},
   "outputs": [
    {
     "name": "stdout",
     "output_type": "stream",
     "text": [
      "[20 30 40]\n"
     ]
    }
   ],
   "source": [
    "#What code prints the numbers 20, 30, 40 ?\n",
    "print(newArr[0,1:4])"
   ]
  },
  {
   "cell_type": "code",
   "execution_count": 12,
   "id": "ffa21761",
   "metadata": {},
   "outputs": [
    {
     "name": "stdout",
     "output_type": "stream",
     "text": [
      "[20 40 60]\n"
     ]
    }
   ],
   "source": [
    "# What code prints the numbers 20,40,60 ?\n",
    "print(newArr[0, 1::2])"
   ]
  },
  {
   "cell_type": "code",
   "execution_count": 13,
   "id": "38b72439",
   "metadata": {},
   "outputs": [
    {
     "data": {
      "text/plain": "numpy.ndarray"
     },
     "execution_count": 13,
     "metadata": {},
     "output_type": "execute_result"
    }
   ],
   "source": [
    "# What code prints the data type of the array?\n",
    "type(newArr)"
   ]
  },
  {
   "cell_type": "code",
   "execution_count": 14,
   "id": "10399564",
   "metadata": {},
   "outputs": [
    {
     "name": "stdout",
     "output_type": "stream",
     "text": [
      "<class 'str'> [[10 20 30 40 50 60]]\n",
      "[[10. 20. 30. 40. 50. 60.]]\n"
     ]
    }
   ],
   "source": [
    "# What code changes the data type to string? And then to float? (Hint you can use astype)\n",
    "#change to string\n",
    "stringArr = np.array2string(newArr)\n",
    "print(type(stringArr), stringArr)\n",
    "#change to float\n",
    "floatArr = np.asarray(newArr, dtype=float)\n",
    "print(floatArr)"
   ]
  },
  {
   "cell_type": "markdown",
   "id": "5564cdc9",
   "metadata": {},
   "source": [
    "## Part 3 - PANDAS "
   ]
  },
  {
   "cell_type": "markdown",
   "id": "50c36a6d",
   "metadata": {},
   "source": [
    "Read the file 'WorldCups.csv' into a data frame. <br>\n",
    "Print out the first three rows."
   ]
  },
  {
   "cell_type": "code",
   "execution_count": 15,
   "outputs": [],
   "source": [
    "df = pd.read_csv('WorldCups.csv')"
   ],
   "metadata": {
    "collapsed": false
   }
  },
  {
   "cell_type": "code",
   "execution_count": 16,
   "id": "6023a155",
   "metadata": {},
   "outputs": [
    {
     "data": {
      "text/plain": "    Year       Country      Winner      Runners-Up        Third  \\\n0   1930       Uruguay     Uruguay       Argentina          USA   \n1   1934         Italy       Italy  Czechoslovakia      Germany   \n2   1938        France       Italy         Hungary       Brazil   \n3   1950        Brazil     Uruguay          Brazil       Sweden   \n4   1954   Switzerland  Germany FR         Hungary      Austria   \n5   1958        Sweden      Brazil          Sweden       France   \n6   1962         Chile      Brazil  Czechoslovakia        Chile   \n7   1966       England     England      Germany FR     Portugal   \n8   1970        Mexico      Brazil           Italy   Germany FR   \n9   1974       Germany  Germany FR     Netherlands       Poland   \n10  1978     Argentina   Argentina     Netherlands       Brazil   \n11  1982         Spain       Italy      Germany FR       Poland   \n12  1986        Mexico   Argentina      Germany FR       France   \n13  1990         Italy  Germany FR       Argentina        Italy   \n14  1994           USA      Brazil           Italy       Sweden   \n15  1998        France      France          Brazil      Croatia   \n16  2002   Korea/Japan      Brazil         Germany       Turkey   \n17  2006       Germany       Italy          France      Germany   \n18  2010  South Africa       Spain     Netherlands      Germany   \n19  2014        Brazil     Germany       Argentina  Netherlands   \n\n            Fourth  GoalsScored  QualifiedTeams  MatchesPlayed Attendance  \n0       Yugoslavia           70              13             18    590.549  \n1          Austria           70              16             17    363.000  \n2           Sweden           84              15             18    375.700  \n3            Spain           88              13             22  1.045.246  \n4          Uruguay          140              16             26    768.607  \n5       Germany FR          126              16             35    819.810  \n6       Yugoslavia           89              16             32    893.172  \n7     Soviet Union           89              16             32  1.563.135  \n8          Uruguay           95              16             32  1.603.975  \n9           Brazil           97              16             38  1.865.753  \n10           Italy          102              16             38  1.545.791  \n11          France          146              24             52  2.109.723  \n12         Belgium          132              24             52  2.394.031  \n13         England          115              24             52  2.516.215  \n14        Bulgaria          141              24             52  3.587.538  \n15     Netherlands          171              32             64  2.785.100  \n16  Korea Republic          161              32             64  2.705.197  \n17        Portugal          147              32             64  3.359.439  \n18         Uruguay          145              32             64  3.178.856  \n19          Brazil          171              32             64  3.386.810  ",
      "text/html": "<div>\n<style scoped>\n    .dataframe tbody tr th:only-of-type {\n        vertical-align: middle;\n    }\n\n    .dataframe tbody tr th {\n        vertical-align: top;\n    }\n\n    .dataframe thead th {\n        text-align: right;\n    }\n</style>\n<table border=\"1\" class=\"dataframe\">\n  <thead>\n    <tr style=\"text-align: right;\">\n      <th></th>\n      <th>Year</th>\n      <th>Country</th>\n      <th>Winner</th>\n      <th>Runners-Up</th>\n      <th>Third</th>\n      <th>Fourth</th>\n      <th>GoalsScored</th>\n      <th>QualifiedTeams</th>\n      <th>MatchesPlayed</th>\n      <th>Attendance</th>\n    </tr>\n  </thead>\n  <tbody>\n    <tr>\n      <th>0</th>\n      <td>1930</td>\n      <td>Uruguay</td>\n      <td>Uruguay</td>\n      <td>Argentina</td>\n      <td>USA</td>\n      <td>Yugoslavia</td>\n      <td>70</td>\n      <td>13</td>\n      <td>18</td>\n      <td>590.549</td>\n    </tr>\n    <tr>\n      <th>1</th>\n      <td>1934</td>\n      <td>Italy</td>\n      <td>Italy</td>\n      <td>Czechoslovakia</td>\n      <td>Germany</td>\n      <td>Austria</td>\n      <td>70</td>\n      <td>16</td>\n      <td>17</td>\n      <td>363.000</td>\n    </tr>\n    <tr>\n      <th>2</th>\n      <td>1938</td>\n      <td>France</td>\n      <td>Italy</td>\n      <td>Hungary</td>\n      <td>Brazil</td>\n      <td>Sweden</td>\n      <td>84</td>\n      <td>15</td>\n      <td>18</td>\n      <td>375.700</td>\n    </tr>\n    <tr>\n      <th>3</th>\n      <td>1950</td>\n      <td>Brazil</td>\n      <td>Uruguay</td>\n      <td>Brazil</td>\n      <td>Sweden</td>\n      <td>Spain</td>\n      <td>88</td>\n      <td>13</td>\n      <td>22</td>\n      <td>1.045.246</td>\n    </tr>\n    <tr>\n      <th>4</th>\n      <td>1954</td>\n      <td>Switzerland</td>\n      <td>Germany FR</td>\n      <td>Hungary</td>\n      <td>Austria</td>\n      <td>Uruguay</td>\n      <td>140</td>\n      <td>16</td>\n      <td>26</td>\n      <td>768.607</td>\n    </tr>\n    <tr>\n      <th>5</th>\n      <td>1958</td>\n      <td>Sweden</td>\n      <td>Brazil</td>\n      <td>Sweden</td>\n      <td>France</td>\n      <td>Germany FR</td>\n      <td>126</td>\n      <td>16</td>\n      <td>35</td>\n      <td>819.810</td>\n    </tr>\n    <tr>\n      <th>6</th>\n      <td>1962</td>\n      <td>Chile</td>\n      <td>Brazil</td>\n      <td>Czechoslovakia</td>\n      <td>Chile</td>\n      <td>Yugoslavia</td>\n      <td>89</td>\n      <td>16</td>\n      <td>32</td>\n      <td>893.172</td>\n    </tr>\n    <tr>\n      <th>7</th>\n      <td>1966</td>\n      <td>England</td>\n      <td>England</td>\n      <td>Germany FR</td>\n      <td>Portugal</td>\n      <td>Soviet Union</td>\n      <td>89</td>\n      <td>16</td>\n      <td>32</td>\n      <td>1.563.135</td>\n    </tr>\n    <tr>\n      <th>8</th>\n      <td>1970</td>\n      <td>Mexico</td>\n      <td>Brazil</td>\n      <td>Italy</td>\n      <td>Germany FR</td>\n      <td>Uruguay</td>\n      <td>95</td>\n      <td>16</td>\n      <td>32</td>\n      <td>1.603.975</td>\n    </tr>\n    <tr>\n      <th>9</th>\n      <td>1974</td>\n      <td>Germany</td>\n      <td>Germany FR</td>\n      <td>Netherlands</td>\n      <td>Poland</td>\n      <td>Brazil</td>\n      <td>97</td>\n      <td>16</td>\n      <td>38</td>\n      <td>1.865.753</td>\n    </tr>\n    <tr>\n      <th>10</th>\n      <td>1978</td>\n      <td>Argentina</td>\n      <td>Argentina</td>\n      <td>Netherlands</td>\n      <td>Brazil</td>\n      <td>Italy</td>\n      <td>102</td>\n      <td>16</td>\n      <td>38</td>\n      <td>1.545.791</td>\n    </tr>\n    <tr>\n      <th>11</th>\n      <td>1982</td>\n      <td>Spain</td>\n      <td>Italy</td>\n      <td>Germany FR</td>\n      <td>Poland</td>\n      <td>France</td>\n      <td>146</td>\n      <td>24</td>\n      <td>52</td>\n      <td>2.109.723</td>\n    </tr>\n    <tr>\n      <th>12</th>\n      <td>1986</td>\n      <td>Mexico</td>\n      <td>Argentina</td>\n      <td>Germany FR</td>\n      <td>France</td>\n      <td>Belgium</td>\n      <td>132</td>\n      <td>24</td>\n      <td>52</td>\n      <td>2.394.031</td>\n    </tr>\n    <tr>\n      <th>13</th>\n      <td>1990</td>\n      <td>Italy</td>\n      <td>Germany FR</td>\n      <td>Argentina</td>\n      <td>Italy</td>\n      <td>England</td>\n      <td>115</td>\n      <td>24</td>\n      <td>52</td>\n      <td>2.516.215</td>\n    </tr>\n    <tr>\n      <th>14</th>\n      <td>1994</td>\n      <td>USA</td>\n      <td>Brazil</td>\n      <td>Italy</td>\n      <td>Sweden</td>\n      <td>Bulgaria</td>\n      <td>141</td>\n      <td>24</td>\n      <td>52</td>\n      <td>3.587.538</td>\n    </tr>\n    <tr>\n      <th>15</th>\n      <td>1998</td>\n      <td>France</td>\n      <td>France</td>\n      <td>Brazil</td>\n      <td>Croatia</td>\n      <td>Netherlands</td>\n      <td>171</td>\n      <td>32</td>\n      <td>64</td>\n      <td>2.785.100</td>\n    </tr>\n    <tr>\n      <th>16</th>\n      <td>2002</td>\n      <td>Korea/Japan</td>\n      <td>Brazil</td>\n      <td>Germany</td>\n      <td>Turkey</td>\n      <td>Korea Republic</td>\n      <td>161</td>\n      <td>32</td>\n      <td>64</td>\n      <td>2.705.197</td>\n    </tr>\n    <tr>\n      <th>17</th>\n      <td>2006</td>\n      <td>Germany</td>\n      <td>Italy</td>\n      <td>France</td>\n      <td>Germany</td>\n      <td>Portugal</td>\n      <td>147</td>\n      <td>32</td>\n      <td>64</td>\n      <td>3.359.439</td>\n    </tr>\n    <tr>\n      <th>18</th>\n      <td>2010</td>\n      <td>South Africa</td>\n      <td>Spain</td>\n      <td>Netherlands</td>\n      <td>Germany</td>\n      <td>Uruguay</td>\n      <td>145</td>\n      <td>32</td>\n      <td>64</td>\n      <td>3.178.856</td>\n    </tr>\n    <tr>\n      <th>19</th>\n      <td>2014</td>\n      <td>Brazil</td>\n      <td>Germany</td>\n      <td>Argentina</td>\n      <td>Netherlands</td>\n      <td>Brazil</td>\n      <td>171</td>\n      <td>32</td>\n      <td>64</td>\n      <td>3.386.810</td>\n    </tr>\n  </tbody>\n</table>\n</div>"
     },
     "execution_count": 16,
     "metadata": {},
     "output_type": "execute_result"
    }
   ],
   "source": [
    "#You might want to re read the data using one of the columns as  the index. \n",
    "df"
   ]
  },
  {
   "cell_type": "markdown",
   "id": "3ae3d400",
   "metadata": {},
   "source": [
    "What is the shape of the data? <br>\n",
    "What are the data types of the columns?"
   ]
  },
  {
   "cell_type": "code",
   "execution_count": 17,
   "id": "07e2bc56",
   "metadata": {},
   "outputs": [
    {
     "data": {
      "text/plain": "(20, 10)"
     },
     "execution_count": 17,
     "metadata": {},
     "output_type": "execute_result"
    }
   ],
   "source": [
    "df.shape"
   ]
  },
  {
   "cell_type": "code",
   "execution_count": 18,
   "id": "c2108409",
   "metadata": {},
   "outputs": [
    {
     "data": {
      "text/plain": "0       590.549\n1       363.000\n2       375.700\n3     1.045.246\n4       768.607\n5       819.810\n6       893.172\n7     1.563.135\n8     1.603.975\n9     1.865.753\n10    1.545.791\n11    2.109.723\n12    2.394.031\n13    2.516.215\n14    3.587.538\n15    2.785.100\n16    2.705.197\n17    3.359.439\n18    3.178.856\n19    3.386.810\nName: Attendance, dtype: object"
     },
     "execution_count": 18,
     "metadata": {},
     "output_type": "execute_result"
    }
   ],
   "source": [
    "#Take a look at 'Attendance'. Why is its data type 'object'(string)? \n",
    "df['Attendance']\n",
    "#its a string beacose there are a lot of '.' in some of the numbers"
   ]
  },
  {
   "cell_type": "code",
   "execution_count": 19,
   "id": "0a03f76f",
   "metadata": {},
   "outputs": [
    {
     "name": "stderr",
     "output_type": "stream",
     "text": [
      "/var/folders/2y/yvh1znjd4fgb59l_s7m1s_3c0000gn/T/ipykernel_38305/2946554664.py:2: FutureWarning: The default value of regex will change from True to False in a future version. In addition, single character regular expressions will *not* be treated as literal strings when regex=True.\n",
      "  df['Attendance'] = df['Attendance'].str.replace('.','')\n"
     ]
    },
    {
     "data": {
      "text/plain": "0      590549.0\n1      363000.0\n2      375700.0\n3     1045246.0\n4      768607.0\n5      819810.0\n6      893172.0\n7     1563135.0\n8     1603975.0\n9     1865753.0\n10    1545791.0\n11    2109723.0\n12    2394031.0\n13    2516215.0\n14    3587538.0\n15    2785100.0\n16    2705197.0\n17    3359439.0\n18    3178856.0\n19    3386810.0\nName: Attendance, dtype: float64"
     },
     "execution_count": 19,
     "metadata": {},
     "output_type": "execute_result"
    }
   ],
   "source": [
    "#How can you change the data type of  'Attendance' to float? \n",
    "df['Attendance'] = df['Attendance'].str.replace('.','')\n",
    "df['Attendance'] = df['Attendance'].astype(float)\n",
    "df['Attendance']"
   ]
  },
  {
   "cell_type": "code",
   "execution_count": 20,
   "id": "88c95513",
   "metadata": {},
   "outputs": [
    {
     "data": {
      "text/plain": "    Year Country  Winner Runners-Up    Third       Fourth  GoalsScored  \\\n2   1938  France   Italy    Hungary   Brazil       Sweden           84   \n15  1998  France  France     Brazil  Croatia  Netherlands          171   \n\n    QualifiedTeams  MatchesPlayed  Attendance  \n2               15             18    375700.0  \n15              32             64   2785100.0  ",
      "text/html": "<div>\n<style scoped>\n    .dataframe tbody tr th:only-of-type {\n        vertical-align: middle;\n    }\n\n    .dataframe tbody tr th {\n        vertical-align: top;\n    }\n\n    .dataframe thead th {\n        text-align: right;\n    }\n</style>\n<table border=\"1\" class=\"dataframe\">\n  <thead>\n    <tr style=\"text-align: right;\">\n      <th></th>\n      <th>Year</th>\n      <th>Country</th>\n      <th>Winner</th>\n      <th>Runners-Up</th>\n      <th>Third</th>\n      <th>Fourth</th>\n      <th>GoalsScored</th>\n      <th>QualifiedTeams</th>\n      <th>MatchesPlayed</th>\n      <th>Attendance</th>\n    </tr>\n  </thead>\n  <tbody>\n    <tr>\n      <th>2</th>\n      <td>1938</td>\n      <td>France</td>\n      <td>Italy</td>\n      <td>Hungary</td>\n      <td>Brazil</td>\n      <td>Sweden</td>\n      <td>84</td>\n      <td>15</td>\n      <td>18</td>\n      <td>375700.0</td>\n    </tr>\n    <tr>\n      <th>15</th>\n      <td>1998</td>\n      <td>France</td>\n      <td>France</td>\n      <td>Brazil</td>\n      <td>Croatia</td>\n      <td>Netherlands</td>\n      <td>171</td>\n      <td>32</td>\n      <td>64</td>\n      <td>2785100.0</td>\n    </tr>\n  </tbody>\n</table>\n</div>"
     },
     "execution_count": 20,
     "metadata": {},
     "output_type": "execute_result"
    }
   ],
   "source": [
    "# Print out the rows of the data frame which have 'Country' as 'France'\n",
    "df[df['Country'].str.contains('France')]"
   ]
  },
  {
   "cell_type": "code",
   "execution_count": 21,
   "id": "567ebe6f",
   "metadata": {},
   "outputs": [
    {
     "data": {
      "text/plain": "    Year    Country      Winner   Runners-Up    Third       Fourth  \\\n10  1978  Argentina   Argentina  Netherlands   Brazil        Italy   \n11  1982      Spain       Italy   Germany FR   Poland       France   \n12  1986     Mexico   Argentina   Germany FR   France      Belgium   \n13  1990      Italy  Germany FR    Argentina    Italy      England   \n14  1994        USA      Brazil        Italy   Sweden     Bulgaria   \n15  1998     France      France       Brazil  Croatia  Netherlands   \n\n    GoalsScored  QualifiedTeams  MatchesPlayed  Attendance  \n10          102              16             38   1545791.0  \n11          146              24             52   2109723.0  \n12          132              24             52   2394031.0  \n13          115              24             52   2516215.0  \n14          141              24             52   3587538.0  \n15          171              32             64   2785100.0  ",
      "text/html": "<div>\n<style scoped>\n    .dataframe tbody tr th:only-of-type {\n        vertical-align: middle;\n    }\n\n    .dataframe tbody tr th {\n        vertical-align: top;\n    }\n\n    .dataframe thead th {\n        text-align: right;\n    }\n</style>\n<table border=\"1\" class=\"dataframe\">\n  <thead>\n    <tr style=\"text-align: right;\">\n      <th></th>\n      <th>Year</th>\n      <th>Country</th>\n      <th>Winner</th>\n      <th>Runners-Up</th>\n      <th>Third</th>\n      <th>Fourth</th>\n      <th>GoalsScored</th>\n      <th>QualifiedTeams</th>\n      <th>MatchesPlayed</th>\n      <th>Attendance</th>\n    </tr>\n  </thead>\n  <tbody>\n    <tr>\n      <th>10</th>\n      <td>1978</td>\n      <td>Argentina</td>\n      <td>Argentina</td>\n      <td>Netherlands</td>\n      <td>Brazil</td>\n      <td>Italy</td>\n      <td>102</td>\n      <td>16</td>\n      <td>38</td>\n      <td>1545791.0</td>\n    </tr>\n    <tr>\n      <th>11</th>\n      <td>1982</td>\n      <td>Spain</td>\n      <td>Italy</td>\n      <td>Germany FR</td>\n      <td>Poland</td>\n      <td>France</td>\n      <td>146</td>\n      <td>24</td>\n      <td>52</td>\n      <td>2109723.0</td>\n    </tr>\n    <tr>\n      <th>12</th>\n      <td>1986</td>\n      <td>Mexico</td>\n      <td>Argentina</td>\n      <td>Germany FR</td>\n      <td>France</td>\n      <td>Belgium</td>\n      <td>132</td>\n      <td>24</td>\n      <td>52</td>\n      <td>2394031.0</td>\n    </tr>\n    <tr>\n      <th>13</th>\n      <td>1990</td>\n      <td>Italy</td>\n      <td>Germany FR</td>\n      <td>Argentina</td>\n      <td>Italy</td>\n      <td>England</td>\n      <td>115</td>\n      <td>24</td>\n      <td>52</td>\n      <td>2516215.0</td>\n    </tr>\n    <tr>\n      <th>14</th>\n      <td>1994</td>\n      <td>USA</td>\n      <td>Brazil</td>\n      <td>Italy</td>\n      <td>Sweden</td>\n      <td>Bulgaria</td>\n      <td>141</td>\n      <td>24</td>\n      <td>52</td>\n      <td>3587538.0</td>\n    </tr>\n    <tr>\n      <th>15</th>\n      <td>1998</td>\n      <td>France</td>\n      <td>France</td>\n      <td>Brazil</td>\n      <td>Croatia</td>\n      <td>Netherlands</td>\n      <td>171</td>\n      <td>32</td>\n      <td>64</td>\n      <td>2785100.0</td>\n    </tr>\n  </tbody>\n</table>\n</div>"
     },
     "execution_count": 21,
     "metadata": {},
     "output_type": "execute_result"
    }
   ],
   "source": [
    "# Print out rows 10 to 15 (including 15)\n",
    "df.iloc[10:16]"
   ]
  },
  {
   "cell_type": "code",
   "execution_count": 22,
   "id": "0dc76772",
   "metadata": {},
   "outputs": [
    {
     "data": {
      "text/plain": "<AxesSubplot:>"
     },
     "execution_count": 22,
     "metadata": {},
     "output_type": "execute_result"
    },
    {
     "data": {
      "text/plain": "<Figure size 640x480 with 1 Axes>",
      "image/png": "[encoded data removed]"
     },
     "metadata": {},
     "output_type": "display_data"
    }
   ],
   "source": [
    "#Make a line plot of'GoalsScored'. \n",
    "df['GoalsScored'].plot()"
   ]
  },
  {
   "cell_type": "code",
   "execution_count": 23,
   "id": "5bf15017",
   "metadata": {},
   "outputs": [
    {
     "data": {
      "text/plain": "<AxesSubplot:>"
     },
     "execution_count": 23,
     "metadata": {},
     "output_type": "execute_result"
    },
    {
     "data": {
      "text/plain": "<Figure size 640x480 with 1 Axes>",
      "image/png": "[encoded data removed]"
     },
     "metadata": {},
     "output_type": "display_data"
    }
   ],
   "source": [
    "# Make a bar plot of the winners.\n",
    "ls = df[\"Winner\"].value_counts()\n",
    "ls.plot.bar()"
   ]
  }
 ],
 "metadata": {
  "kernelspec": {
   "display_name": "Python 3 (ipykernel)",
   "language": "python",
   "name": "python3"
  },
  "language_info": {
   "codemirror_mode": {
    "name": "ipython",
    "version": 3
   },
   "file_extension": ".py",
   "mimetype": "text/x-python",
   "name": "python",
   "nbconvert_exporter": "python",
   "pygments_lexer": "ipython3",
   "version": "3.9.13"
  }
 },
 "nbformat": 4,
 "nbformat_minor": 5
}
